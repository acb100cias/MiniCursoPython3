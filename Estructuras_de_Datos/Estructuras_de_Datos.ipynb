{
 "cells": [
  {
   "cell_type": "markdown",
   "metadata": {},
   "source": [
    "# Estrucutas de datos"
   ]
  },
  {
   "cell_type": "markdown",
   "metadata": {},
   "source": [
    "En términos prácticos las _estructuras de datos_ son formas particulares en las que una computadora almacena datos para que así estos puedan ser utilizados de forma efectiva: queremos poder acceder a nuetros datos rápido, que no se pierdas y quizás que estén bien disponibles sólo por cortos momentos o bien hasta que nosotros decidamos eliminar esos datos.  "
   ]
  },
  {
   "cell_type": "markdown",
   "metadata": {},
   "source": [
    "Aquí convendría un poco hablar de cómo se guarda la información en el disco duro, qué tipos de discos duros existen qué es y cómo funciona la memoria chaché y la memoria RAM pero pues en la serie de videos lo incluiré. "
   ]
  },
  {
   "cell_type": "markdown",
   "metadata": {},
   "source": [
    "A lo largo de esta serie vamos a ver qué es y como operan ciertas estructuras de datos en python y cómo operar con los datos que éstas almacenen y como operrar entre las estructuras. "
   ]
  },
  {
   "cell_type": "markdown",
   "metadata": {},
   "source": [
    "Las estructutas de datos que vamos a ver acá no son únicas de Python sino que existen en casi todos los lenguajes de programación y la forma de operar con ellas o entre ellas cambiará solamente en su sintaxis del lenguaje de programación en el que estés."
   ]
  },
  {
   "cell_type": "markdown",
   "metadata": {},
   "source": [
    "Podemos dividir este segmento de las notas en tres partes:\n",
    "1. Estructuras de datos lineales\n",
    "    1. Arreglos (arrays)\n",
    "    2. Listas ligadas (linked lists)\n",
    "    3. Pilas (Stacks)\n",
    "    4. Colas\n",
    "2. Estructuras jerárquicas\n",
    "    1. Hashing\n",
    "    2. Árbol Binario\n",
    "3. Estructuras avanzadas y abstractas:\n",
    "    1. Gráficas\n",
    "    2. Trie\n",
    "    3. Self-Organized List"
   ]
  },
  {
   "cell_type": "markdown",
   "metadata": {},
   "source": [
    "Cada una de estas estructuras existe dentro de Python con un nombre específico y tiene reglas y operadores bien definidos. "
   ]
  },
  {
   "cell_type": "markdown",
   "metadata": {},
   "source": [
    "Como recursos adicionales tenemos también las siguientes notas, las cuales te recomiendo ampliamente que leas antes avanzar ya que solamente acá se verán algunos conceptos que se usarán el resto del las notas:\n",
    "* Notas en complejidad computacional "
   ]
  }
 ],
 "metadata": {
  "kernelspec": {
   "display_name": "Python 3",
   "language": "python",
   "name": "python3"
  },
  "language_info": {
   "codemirror_mode": {
    "name": "ipython",
    "version": 3
   },
   "file_extension": ".py",
   "mimetype": "text/x-python",
   "name": "python",
   "nbconvert_exporter": "python",
   "pygments_lexer": "ipython3",
   "version": "3.7.3"
  }
 },
 "nbformat": 4,
 "nbformat_minor": 4
}
